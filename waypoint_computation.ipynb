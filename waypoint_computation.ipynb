{
 "cells": [
  {
   "cell_type": "code",
   "execution_count": null,
   "metadata": {},
   "outputs": [],
   "source": [
    "# Importing the libraries\n",
    "import os\n",
    "import torch\n",
    "import numpy as np\n",
    "from PIL import Image\n",
    "\n",
    "from torch.utils.data import DataLoader\n",
    "import torchvision.transforms as transforms\n",
    "\n",
    "from models.resnet_depth_unet import ResnetDepthUnet\n",
    "from utils.dataloader import TraversabilityDataset\n",
    "\n",
    "import matplotlib.pyplot as plt\n",
    "import cv2 as cv\n",
    "\n",
    "device = torch.device('cuda' if torch.cuda.is_available() else 'cpu')"
   ]
  },
  {
   "cell_type": "code",
   "execution_count": null,
   "metadata": {},
   "outputs": [],
   "source": [
    "# Create the parameters object\n",
    "class Object(object):\n",
    "    pass\n",
    "\n",
    "params = Object()\n",
    "# dataset parameters\n",
    "params.data_path        = r'C:/Users/deeks/Documents/WayFAST/myfile/data'\n",
    "params.csv_path         = os.path.join(params.data_path, 'data.csv')\n",
    "params.preproc          = True  # Vertical flip augmentation\n",
    "params.depth_mean       = 3.5235\n",
    "params.depth_std        = 10.6645\n",
    "\n",
    "# model parameters\n",
    "params.model            = ResnetDepthUnet\n",
    "params.batch_size       = 1\n",
    "params.pretrained       = True\n",
    "params.load_network_path = True \n",
    "params.input_size       = (424, 240)\n",
    "params.output_size      = (424, 240)\n",
    "params.output_channels  = 1\n",
    "params.bottleneck_dim   = 256"
   ]
  },
  {
   "cell_type": "code",
   "execution_count": null,
   "metadata": {},
   "outputs": [],
   "source": [
    "# Load the test images from the data folder\n",
    "def load_images_from_folder(folder):\n",
    "    images = []\n",
    "    for filename in os.listdir(folder):\n",
    "        img = cv.imread(os.path.join(folder,filename))\n",
    "        if img is not None:\n",
    "            images.append(img)\n",
    "    return images"
   ]
  },
  {
   "cell_type": "code",
   "execution_count": null,
   "metadata": {},
   "outputs": [],
   "source": [
    "# Transform the images and create a dataloader\n",
    "def transform_images(images):\n",
    "    transform = transforms.Compose([\n",
    "            transforms.ToPILImage(),\n",
    "            transforms.ColorJitter(brightness=0.1, contrast=0.1, saturation=0.1, hue=0.1),\n",
    "            transforms.ToTensor(),\n",
    "            transforms.Normalize(mean=[0.485, 0.456, 0.406], std=[0.229, 0.224, 0.225]),\n",
    "            ])\n",
    "\n",
    "    dataset = TraversabilityDataset(params, transform)\n",
    "    test_loader     = DataLoader(dataset, batch_size=params.batch_size, shuffle=True, num_workers=2)\n",
    "    return test_loader\n"
   ]
  },
  {
   "cell_type": "code",
   "execution_count": null,
   "metadata": {},
   "outputs": [],
   "source": [
    "# Perform inference on the input images\n",
    "def inference_on_images(model, test_loader, output_dir):\n",
    "    if not os.path.exists(output_dir):\n",
    "        os.makedirs(output_dir)\n",
    "        \n",
    "\n",
    "    with torch.no_grad():\n",
    "        model.eval()\n",
    "        for i, data in enumerate(test_loader):\n",
    "            data = (item.to(device).type(torch.float32) for item in data)\n",
    "            color_img, depth_img, path_img, mu_img, nu_img, weight = data\n",
    "\n",
    "            pred = model(color_img, depth_img)\n",
    "\n",
    "\n",
    "            # Save the image with the predicted label\n",
    "            image = Image.fromarray(image[0])\n",
    "            image.save(os.path.join(output_dir, f\"image_{i}_predicted.png\"))\n",
    "\n",
    "            # Display the image with the predicted image beside eachother\n",
    "            plt.figure(figsize = (14,14))\n",
    "            plt.subplot(1, 3, 1)\n",
    "            plt.imshow(image.permute(1, 2, 0).cpu().numpy())\n",
    "            plt.subplot(1, 3, 2)\n",
    "            plt.imshow(255*pred[0,0,:,:].detach().cpu().numpy(), vmin=0, vmax=255)\n",
    "            plt.show(block=False)\n",
    "            plt.pause(1)"
   ]
  },
  {
   "cell_type": "code",
   "execution_count": null,
   "metadata": {},
   "outputs": [],
   "source": [
    "# Read TIF images from data using cv2 and convert to numpy arrays\n",
    "\n",
    "def read_images(data_path):\n",
    "    images = []\n",
    "    for filename in os.listdir(data_path):\n",
    "        if filename.endswith('.tif'):\n",
    "            img = cv.imread(os.path.join(data_path, filename), cv.IMREAD_GRAYSCALE)\n",
    "            images.append(img)\n",
    "    return images"
   ]
  },
  {
   "cell_type": "code",
   "execution_count": null,
   "metadata": {},
   "outputs": [],
   "source": [
    "# Print first 5 images\n",
    "\n",
    "def print_images(images):\n",
    "    for i in range(5):\n",
    "        plt.imshow(images[i], cmap='gray')\n",
    "        plt.show()"
   ]
  },
  {
   "cell_type": "code",
   "execution_count": null,
   "metadata": {},
   "outputs": [],
   "source": [
    "# Main function\n",
    "\n",
    "def main():\n",
    "    data_path = r'C:\\Users\\deeks\\Documents\\WayFAST\\myfile\\data\\mu'\n",
    "    images = read_images(data_path)\n",
    "    print_images(images)\n",
    "\n",
    "if __name__ == '__main__':\n",
    "    main()"
   ]
  }
 ],
 "metadata": {
  "language_info": {
   "name": "python"
  }
 },
 "nbformat": 4,
 "nbformat_minor": 2
}
